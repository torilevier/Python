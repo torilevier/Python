{
 "cells": [
  {
   "cell_type": "code",
   "execution_count": 1,
   "id": "248f762b-80b7-4c8a-b5f3-c24f088bbd75",
   "metadata": {},
   "outputs": [
    {
     "name": "stdout",
     "output_type": "stream",
     "text": [
      "['lion', 'tiger', 'crocodile', 'vulture', 'hippo']\n"
     ]
    }
   ],
   "source": [
    "animals = [\"lion\", \"tiger\", \"crocodile\", \"vulture\", \"hippo\"]\n",
    "print (animals)"
   ]
  },
  {
   "cell_type": "code",
   "execution_count": 2,
   "id": "65537df5-a54b-420f-8365-2ca5fa5a0701",
   "metadata": {},
   "outputs": [
    {
     "name": "stdout",
     "output_type": "stream",
     "text": [
      "lion\n",
      "tiger\n",
      "crocodile\n",
      "vulture\n",
      "hippo\n"
     ]
    }
   ],
   "source": [
    "for creature in animals:\n",
    "    print(creature)"
   ]
  },
  {
   "cell_type": "code",
   "execution_count": 3,
   "id": "8d97cb85-4bae-49a6-bf4b-b3677458f6e1",
   "metadata": {},
   "outputs": [
    {
     "data": {
      "text/plain": [
       "'hippo'"
      ]
     },
     "execution_count": 3,
     "metadata": {},
     "output_type": "execute_result"
    }
   ],
   "source": [
    "creature"
   ]
  },
  {
   "cell_type": "code",
   "execution_count": 4,
   "id": "416c1c22-d242-4be7-b9e8-381b5593a14b",
   "metadata": {},
   "outputs": [
    {
     "name": "stdout",
     "output_type": "stream",
     "text": [
      "got a hippo!\n"
     ]
    }
   ],
   "source": [
    "if creature == \"hippo\":\n",
    "    print(\"got a hippo!\")\n",
    "else:\n",
    "    print(\"nope\")\n",
    "\n",
    "# if you need to test for equality, use two equal signs, not one\n",
    "\n",
    "# this is your basic loop and conditional statement"
   ]
  },
  {
   "cell_type": "code",
   "execution_count": 5,
   "id": "212c4ce4-499a-4ee2-90c4-e761578a10da",
   "metadata": {},
   "outputs": [
    {
     "data": {
      "text/plain": [
       "3"
      ]
     },
     "execution_count": 5,
     "metadata": {},
     "output_type": "execute_result"
    }
   ],
   "source": [
    "abs(3)"
   ]
  },
  {
   "cell_type": "code",
   "execution_count": 6,
   "id": "a3f159bc-18bf-4a07-bf6c-e212a8211957",
   "metadata": {},
   "outputs": [
    {
     "data": {
      "text/plain": [
       "3"
      ]
     },
     "execution_count": 6,
     "metadata": {},
     "output_type": "execute_result"
    }
   ],
   "source": [
    "abs(-3)\n",
    "#these are absolute value functions"
   ]
  },
  {
   "cell_type": "code",
   "execution_count": 7,
   "id": "4315bced-da1f-4a74-94f2-86f9047300c9",
   "metadata": {},
   "outputs": [],
   "source": [
    "# but let's pretend that doesn't exist so let's make our own\n",
    "\n",
    "def absvalue(n):\n",
    "    if n >= 0:\n",
    "        return n\n",
    "    else:\n",
    "        return -n"
   ]
  },
  {
   "cell_type": "code",
   "execution_count": 8,
   "id": "ba0326d6-bb16-42f9-9dc9-e77050b3563d",
   "metadata": {},
   "outputs": [
    {
     "data": {
      "text/plain": [
       "17"
      ]
     },
     "execution_count": 8,
     "metadata": {},
     "output_type": "execute_result"
    }
   ],
   "source": [
    "absvalue(17)"
   ]
  },
  {
   "cell_type": "code",
   "execution_count": 9,
   "id": "dd8501d2-c6eb-4a31-b172-07fbd75417e1",
   "metadata": {},
   "outputs": [
    {
     "data": {
      "text/plain": [
       "17"
      ]
     },
     "execution_count": 9,
     "metadata": {},
     "output_type": "execute_result"
    }
   ],
   "source": [
    "absvalue(-17)"
   ]
  },
  {
   "cell_type": "markdown",
   "id": "d613ad8c-0f19-46e1-aa0b-e6147429fa7a",
   "metadata": {},
   "source": [
    "# Challenge\n",
    "\n",
    "Write a function 'format_date' that takes three numeric argumetns (month, day, year) and returns the date as a string formatted like \"2/23/2023\"\n",
    "\n",
    "Hint 1: to convert a number to a string, use the 'str()' function\n",
    "\n",
    "Hint 2: to concatenate two strings, use +"
   ]
  },
  {
   "cell_type": "code",
   "execution_count": 10,
   "id": "8b6ab86d-4678-45a4-b928-0d1c4265bc7a",
   "metadata": {},
   "outputs": [],
   "source": [
    "def format_date(month, day, year):\n",
    "    month_str = str(month)\n",
    "    day_str = str(day)\n",
    "    year_str = str(year)\n",
    "    return (month_str + \"/\" + day_str + \"/\" + year_str)"
   ]
  },
  {
   "cell_type": "code",
   "execution_count": 11,
   "id": "52242cfb-3d22-4cc5-bfd3-01965a88271b",
   "metadata": {},
   "outputs": [
    {
     "data": {
      "text/plain": [
       "'2/23/2023'"
      ]
     },
     "execution_count": 11,
     "metadata": {},
     "output_type": "execute_result"
    }
   ],
   "source": [
    "format_date(2,23,2023)"
   ]
  },
  {
   "cell_type": "code",
   "execution_count": 12,
   "id": "02c3810b-8d56-4cd9-ae19-4845aa10afee",
   "metadata": {},
   "outputs": [],
   "source": [
    "# alternative method\n",
    "def format_date(month, day, year):\n",
    "    return str(month) + \"/\" + str(day) + \"/\" + str(year)"
   ]
  },
  {
   "cell_type": "code",
   "execution_count": 13,
   "id": "e65b1377-cf86-4675-933d-0b2769b823cc",
   "metadata": {},
   "outputs": [],
   "source": [
    "def f(a, b, c):\n",
    "    return str(a) + \"/\" + str(b) + \"/\" + str(c)\n",
    "\n",
    "# this is harder to read as you don't know what all of the things represent\n",
    "# label things to add to the readability of what you are trying to do\n",
    "# see below\n",
    "\n",
    "def format_date(a, b, c):\n",
    "    return str(a) + \"/\" + str(b) + \"/\" + str(c)"
   ]
  },
  {
   "cell_type": "markdown",
   "id": "679d2faa-2a2d-4e93-b0bd-c7c0caa9db65",
   "metadata": {},
   "source": [
    "# Exercises in writing loops for automation"
   ]
  },
  {
   "cell_type": "code",
   "execution_count": 19,
   "id": "cb04b173",
   "metadata": {},
   "outputs": [
    {
     "data": {
      "text/plain": [
       "'/Users/tlevier/Desktop'"
      ]
     },
     "execution_count": 19,
     "metadata": {},
     "output_type": "execute_result"
    }
   ],
   "source": [
    "pwd"
   ]
  },
  {
   "cell_type": "code",
   "execution_count": 20,
   "id": "3b7ca488",
   "metadata": {},
   "outputs": [
    {
     "name": "stdout",
     "output_type": "stream",
     "text": [
      "/Users/tlevier\n"
     ]
    }
   ],
   "source": [
    "cd .."
   ]
  },
  {
   "cell_type": "code",
   "execution_count": 21,
   "id": "24970da1",
   "metadata": {},
   "outputs": [
    {
     "name": "stdout",
     "output_type": "stream",
     "text": [
      "/Users/tlevier/Desktop\n"
     ]
    }
   ],
   "source": [
    "cd /Users/tlevier/Desktop"
   ]
  },
  {
   "cell_type": "code",
   "execution_count": 22,
   "id": "da284d8c-651b-4ffa-86f9-a0b0c3cb8d84",
   "metadata": {},
   "outputs": [],
   "source": [
    "import pandas as pd\n",
    "surveys = pd.read_csv(\"data/surveys.csv\")"
   ]
  },
  {
   "cell_type": "code",
   "execution_count": 23,
   "id": "5a95a51d-0037-457e-bc05-b317d993bf84",
   "metadata": {},
   "outputs": [
    {
     "data": {
      "text/html": [
       "<div>\n",
       "<style scoped>\n",
       "    .dataframe tbody tr th:only-of-type {\n",
       "        vertical-align: middle;\n",
       "    }\n",
       "\n",
       "    .dataframe tbody tr th {\n",
       "        vertical-align: top;\n",
       "    }\n",
       "\n",
       "    .dataframe thead th {\n",
       "        text-align: right;\n",
       "    }\n",
       "</style>\n",
       "<table border=\"1\" class=\"dataframe\">\n",
       "  <thead>\n",
       "    <tr style=\"text-align: right;\">\n",
       "      <th></th>\n",
       "      <th>record_id</th>\n",
       "      <th>month</th>\n",
       "      <th>day</th>\n",
       "      <th>year</th>\n",
       "      <th>plot_id</th>\n",
       "      <th>species_id</th>\n",
       "      <th>sex</th>\n",
       "      <th>hindfoot_length</th>\n",
       "      <th>weight</th>\n",
       "    </tr>\n",
       "  </thead>\n",
       "  <tbody>\n",
       "    <tr>\n",
       "      <th>0</th>\n",
       "      <td>1</td>\n",
       "      <td>7</td>\n",
       "      <td>16</td>\n",
       "      <td>1977</td>\n",
       "      <td>2</td>\n",
       "      <td>NL</td>\n",
       "      <td>M</td>\n",
       "      <td>32.0</td>\n",
       "      <td>NaN</td>\n",
       "    </tr>\n",
       "    <tr>\n",
       "      <th>1</th>\n",
       "      <td>2</td>\n",
       "      <td>7</td>\n",
       "      <td>16</td>\n",
       "      <td>1977</td>\n",
       "      <td>3</td>\n",
       "      <td>NL</td>\n",
       "      <td>M</td>\n",
       "      <td>33.0</td>\n",
       "      <td>NaN</td>\n",
       "    </tr>\n",
       "    <tr>\n",
       "      <th>2</th>\n",
       "      <td>3</td>\n",
       "      <td>7</td>\n",
       "      <td>16</td>\n",
       "      <td>1977</td>\n",
       "      <td>2</td>\n",
       "      <td>DM</td>\n",
       "      <td>F</td>\n",
       "      <td>37.0</td>\n",
       "      <td>NaN</td>\n",
       "    </tr>\n",
       "    <tr>\n",
       "      <th>3</th>\n",
       "      <td>4</td>\n",
       "      <td>7</td>\n",
       "      <td>16</td>\n",
       "      <td>1977</td>\n",
       "      <td>7</td>\n",
       "      <td>DM</td>\n",
       "      <td>M</td>\n",
       "      <td>36.0</td>\n",
       "      <td>NaN</td>\n",
       "    </tr>\n",
       "    <tr>\n",
       "      <th>4</th>\n",
       "      <td>5</td>\n",
       "      <td>7</td>\n",
       "      <td>16</td>\n",
       "      <td>1977</td>\n",
       "      <td>3</td>\n",
       "      <td>DM</td>\n",
       "      <td>M</td>\n",
       "      <td>35.0</td>\n",
       "      <td>NaN</td>\n",
       "    </tr>\n",
       "    <tr>\n",
       "      <th>...</th>\n",
       "      <td>...</td>\n",
       "      <td>...</td>\n",
       "      <td>...</td>\n",
       "      <td>...</td>\n",
       "      <td>...</td>\n",
       "      <td>...</td>\n",
       "      <td>...</td>\n",
       "      <td>...</td>\n",
       "      <td>...</td>\n",
       "    </tr>\n",
       "    <tr>\n",
       "      <th>35544</th>\n",
       "      <td>35545</td>\n",
       "      <td>12</td>\n",
       "      <td>31</td>\n",
       "      <td>2002</td>\n",
       "      <td>15</td>\n",
       "      <td>AH</td>\n",
       "      <td>NaN</td>\n",
       "      <td>NaN</td>\n",
       "      <td>NaN</td>\n",
       "    </tr>\n",
       "    <tr>\n",
       "      <th>35545</th>\n",
       "      <td>35546</td>\n",
       "      <td>12</td>\n",
       "      <td>31</td>\n",
       "      <td>2002</td>\n",
       "      <td>15</td>\n",
       "      <td>AH</td>\n",
       "      <td>NaN</td>\n",
       "      <td>NaN</td>\n",
       "      <td>NaN</td>\n",
       "    </tr>\n",
       "    <tr>\n",
       "      <th>35546</th>\n",
       "      <td>35547</td>\n",
       "      <td>12</td>\n",
       "      <td>31</td>\n",
       "      <td>2002</td>\n",
       "      <td>10</td>\n",
       "      <td>RM</td>\n",
       "      <td>F</td>\n",
       "      <td>15.0</td>\n",
       "      <td>14.0</td>\n",
       "    </tr>\n",
       "    <tr>\n",
       "      <th>35547</th>\n",
       "      <td>35548</td>\n",
       "      <td>12</td>\n",
       "      <td>31</td>\n",
       "      <td>2002</td>\n",
       "      <td>7</td>\n",
       "      <td>DO</td>\n",
       "      <td>M</td>\n",
       "      <td>36.0</td>\n",
       "      <td>51.0</td>\n",
       "    </tr>\n",
       "    <tr>\n",
       "      <th>35548</th>\n",
       "      <td>35549</td>\n",
       "      <td>12</td>\n",
       "      <td>31</td>\n",
       "      <td>2002</td>\n",
       "      <td>5</td>\n",
       "      <td>NaN</td>\n",
       "      <td>NaN</td>\n",
       "      <td>NaN</td>\n",
       "      <td>NaN</td>\n",
       "    </tr>\n",
       "  </tbody>\n",
       "</table>\n",
       "<p>35549 rows × 9 columns</p>\n",
       "</div>"
      ],
      "text/plain": [
       "       record_id  month  day  year  plot_id species_id  sex  hindfoot_length  \\\n",
       "0              1      7   16  1977        2         NL    M             32.0   \n",
       "1              2      7   16  1977        3         NL    M             33.0   \n",
       "2              3      7   16  1977        2         DM    F             37.0   \n",
       "3              4      7   16  1977        7         DM    M             36.0   \n",
       "4              5      7   16  1977        3         DM    M             35.0   \n",
       "...          ...    ...  ...   ...      ...        ...  ...              ...   \n",
       "35544      35545     12   31  2002       15         AH  NaN              NaN   \n",
       "35545      35546     12   31  2002       15         AH  NaN              NaN   \n",
       "35546      35547     12   31  2002       10         RM    F             15.0   \n",
       "35547      35548     12   31  2002        7         DO    M             36.0   \n",
       "35548      35549     12   31  2002        5        NaN  NaN              NaN   \n",
       "\n",
       "       weight  \n",
       "0         NaN  \n",
       "1         NaN  \n",
       "2         NaN  \n",
       "3         NaN  \n",
       "4         NaN  \n",
       "...       ...  \n",
       "35544     NaN  \n",
       "35545     NaN  \n",
       "35546    14.0  \n",
       "35547    51.0  \n",
       "35548     NaN  \n",
       "\n",
       "[35549 rows x 9 columns]"
      ]
     },
     "execution_count": 23,
     "metadata": {},
     "output_type": "execute_result"
    }
   ],
   "source": [
    "surveys"
   ]
  },
  {
   "cell_type": "code",
   "execution_count": 24,
   "id": "2ca9ba2c-d13c-41a3-905c-9e0fec42c85a",
   "metadata": {},
   "outputs": [],
   "source": [
    "surveys2002 = surveys[surveys.year == 2002]"
   ]
  },
  {
   "cell_type": "code",
   "execution_count": 25,
   "id": "154e2965-d098-4a82-b788-833b4d24b4a3",
   "metadata": {},
   "outputs": [],
   "source": [
    "surveys2002.to_csv(\"data/yearly_files/surveys2002.csv\")"
   ]
  },
  {
   "cell_type": "code",
   "execution_count": 26,
   "id": "82cef3f4-2579-4402-90b5-55a18e5addc4",
   "metadata": {},
   "outputs": [
    {
     "data": {
      "text/plain": [
       "array([1977, 1978, 1979, 1980, 1981, 1982, 1983, 1984, 1985, 1986, 1987,\n",
       "       1988, 1989, 1990, 1991, 1992, 1993, 1994, 1995, 1996, 1997, 1998,\n",
       "       1999, 2000, 2001, 2002])"
      ]
     },
     "execution_count": 26,
     "metadata": {},
     "output_type": "execute_result"
    }
   ],
   "source": [
    "surveys.year.unique()\n",
    "# this is how we see all the different years"
   ]
  },
  {
   "cell_type": "code",
   "execution_count": 27,
   "id": "99312d09-d22e-4dc5-9c39-9390c3d167e0",
   "metadata": {},
   "outputs": [
    {
     "data": {
      "text/plain": [
       "26"
      ]
     },
     "execution_count": 27,
     "metadata": {},
     "output_type": "execute_result"
    }
   ],
   "source": [
    "len(surveys.year.unique())\n",
    "# this is how we know the total amount of different years"
   ]
  },
  {
   "cell_type": "code",
   "execution_count": 28,
   "id": "5be11834-f74f-4c32-9e23-793a25829421",
   "metadata": {},
   "outputs": [
    {
     "name": "stdout",
     "output_type": "stream",
     "text": [
      "1977\n",
      "1978\n",
      "1979\n",
      "1980\n",
      "1981\n",
      "1982\n",
      "1983\n",
      "1984\n",
      "1985\n",
      "1986\n",
      "1987\n",
      "1988\n",
      "1989\n",
      "1990\n",
      "1991\n",
      "1992\n",
      "1993\n",
      "1994\n",
      "1995\n",
      "1996\n",
      "1997\n",
      "1998\n",
      "1999\n",
      "2000\n",
      "2001\n",
      "2002\n"
     ]
    }
   ],
   "source": [
    "for year in surveys.year.unique():\n",
    "    print(year)"
   ]
  },
  {
   "cell_type": "code",
   "execution_count": 29,
   "id": "71a2f1aa-5495-4591-b73c-06dbaeec0388",
   "metadata": {},
   "outputs": [
    {
     "name": "stdout",
     "output_type": "stream",
     "text": [
      "data/yearly_files/survey1977.csv\n",
      "data/yearly_files/survey1978.csv\n",
      "data/yearly_files/survey1979.csv\n",
      "data/yearly_files/survey1980.csv\n",
      "data/yearly_files/survey1981.csv\n",
      "data/yearly_files/survey1982.csv\n",
      "data/yearly_files/survey1983.csv\n",
      "data/yearly_files/survey1984.csv\n",
      "data/yearly_files/survey1985.csv\n",
      "data/yearly_files/survey1986.csv\n",
      "data/yearly_files/survey1987.csv\n",
      "data/yearly_files/survey1988.csv\n",
      "data/yearly_files/survey1989.csv\n",
      "data/yearly_files/survey1990.csv\n",
      "data/yearly_files/survey1991.csv\n",
      "data/yearly_files/survey1992.csv\n",
      "data/yearly_files/survey1993.csv\n",
      "data/yearly_files/survey1994.csv\n",
      "data/yearly_files/survey1995.csv\n",
      "data/yearly_files/survey1996.csv\n",
      "data/yearly_files/survey1997.csv\n",
      "data/yearly_files/survey1998.csv\n",
      "data/yearly_files/survey1999.csv\n",
      "data/yearly_files/survey2000.csv\n",
      "data/yearly_files/survey2001.csv\n",
      "data/yearly_files/survey2002.csv\n"
     ]
    }
   ],
   "source": [
    "for year in surveys.year.unique():\n",
    "    filename = \"data/yearly_files/survey\" + str(year) + \".csv\"\n",
    "    print(filename)"
   ]
  },
  {
   "cell_type": "code",
   "execution_count": 30,
   "id": "61293d2d-db73-4db8-8f35-518b4cf1d74a",
   "metadata": {},
   "outputs": [],
   "source": [
    "# now we want to extract out just the rows for that specific year\n",
    "\n",
    "for year in surveys.year.unique():\n",
    "    filename = \"data/yearly_files/survey\" + str(year) + \".csv\"\n",
    "    surveys_subset = surveys[surveys.year == year]\n",
    "    surveys_subset.to_csv(filename)"
   ]
  },
  {
   "cell_type": "code",
   "execution_count": 31,
   "id": "992f1be1-8e1d-4f13-b069-3d2ce34aa87c",
   "metadata": {},
   "outputs": [],
   "source": [
    "for year in surveys.year.unique():\n",
    "    filename = \"data/yearly_files/survey\" + str(year) + \".csv\"\n",
    "    surveys[surveys.year == year].to_csv(filename)"
   ]
  },
  {
   "cell_type": "code",
   "execution_count": 32,
   "id": "5f4f2b09-f894-4cfd-8f14-148e7064d808",
   "metadata": {},
   "outputs": [],
   "source": [
    "for each_year in surveys.year.unique():\n",
    "    filename = \"data/yearly_files/survey\" + str(each_year) + \".csv\"\n",
    "    surveys[surveys.year == each_year].to_csv(filename)\n",
    "    \n",
    "# If you run this multiple times it rewrites the code"
   ]
  },
  {
   "cell_type": "markdown",
   "id": "0235f815-bf7a-4cfb-aef2-72982b71014d",
   "metadata": {},
   "source": [
    "# Practice"
   ]
  },
  {
   "cell_type": "code",
   "execution_count": 36,
   "id": "35e11a4f-ec8f-4ebf-a019-16452e6e25b6",
   "metadata": {},
   "outputs": [
    {
     "name": "stdout",
     "output_type": "stream",
     "text": [
      "5\n"
     ]
    }
   ],
   "source": [
    "print(x)\n",
    "\n",
    "# this can only run non-linearly, so make sure your notebook runs top to bottom\n",
    "# go to clear \"restart kernel and run all cells\" to make sure something is easily reproducable, since this will have an error\n",
    "# if we actually run it first"
   ]
  },
  {
   "cell_type": "code",
   "execution_count": 37,
   "id": "3f6bbbf4-2540-493e-aba9-5e3305ab84f6",
   "metadata": {},
   "outputs": [],
   "source": [
    "x = 5"
   ]
  },
  {
   "cell_type": "code",
   "execution_count": 38,
   "id": "5e941637-994f-47e0-9c5c-38dfb53827d8",
   "metadata": {},
   "outputs": [
    {
     "data": {
      "text/plain": [
       "5"
      ]
     },
     "execution_count": 38,
     "metadata": {},
     "output_type": "execute_result"
    }
   ],
   "source": [
    "x"
   ]
  },
  {
   "cell_type": "code",
   "execution_count": null,
   "id": "4bfc4258-16f4-4ee4-8158-f3a7fe4efe22",
   "metadata": {},
   "outputs": [],
   "source": [
    "# when you are running soe code and you say x = 5, then the python interpreter behind the scenes will know it is x\n",
    "# you can edit these cells in any order\n",
    "# suppose we go up to above x = 5 "
   ]
  }
 ],
 "metadata": {
  "kernelspec": {
   "display_name": "Python 3 (ipykernel)",
   "language": "python",
   "name": "python3"
  },
  "language_info": {
   "codemirror_mode": {
    "name": "ipython",
    "version": 3
   },
   "file_extension": ".py",
   "mimetype": "text/x-python",
   "name": "python",
   "nbconvert_exporter": "python",
   "pygments_lexer": "ipython3",
   "version": "3.9.13"
  }
 },
 "nbformat": 4,
 "nbformat_minor": 5
}
