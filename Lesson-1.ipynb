{
 "cells": [
  {
   "cell_type": "code",
   "execution_count": 1,
   "id": "564a8e93-4c55-4d16-ad0c-2ed1deaa9ee5",
   "metadata": {},
   "outputs": [
    {
     "data": {
      "text/plain": [
       "9"
      ]
     },
     "execution_count": 1,
     "metadata": {},
     "output_type": "execute_result"
    }
   ],
   "source": [
    "2+2+5"
   ]
  },
  {
   "cell_type": "markdown",
   "id": "e71c6846-7390-41ef-8503-19cd4316bc3d",
   "metadata": {},
   "source": [
    "# Python Day 1\n",
    "Here we go!"
   ]
  },
  {
   "cell_type": "markdown",
   "id": "f109f9b0-9d2d-4469-8039-7a73c902f7f3",
   "metadata": {},
   "source": [
    "# Data types"
   ]
  },
  {
   "cell_type": "code",
   "execution_count": 2,
   "id": "e9a7c835-e8cf-403a-85bf-b7b2e2d2647c",
   "metadata": {},
   "outputs": [
    {
     "data": {
      "text/plain": [
       "'this is a string'"
      ]
     },
     "execution_count": 2,
     "metadata": {},
     "output_type": "execute_result"
    }
   ],
   "source": [
    "\"this is a string\""
   ]
  },
  {
   "cell_type": "code",
   "execution_count": 3,
   "id": "49a57e25-18ed-4d14-bad3-50fa90b53fe7",
   "metadata": {},
   "outputs": [
    {
     "data": {
      "text/plain": [
       "'this is another string'"
      ]
     },
     "execution_count": 3,
     "metadata": {},
     "output_type": "execute_result"
    }
   ],
   "source": [
    "\"this is another string\""
   ]
  },
  {
   "cell_type": "code",
   "execution_count": 4,
   "id": "c92a6a8a-b6db-499c-8a8c-691ea0052d79",
   "metadata": {},
   "outputs": [
    {
     "data": {
      "text/plain": [
       "'this is a stringfollowed by another'"
      ]
     },
     "execution_count": 4,
     "metadata": {},
     "output_type": "execute_result"
    }
   ],
   "source": [
    "\"this is a string\" + \"followed by another\""
   ]
  },
  {
   "cell_type": "code",
   "execution_count": 5,
   "id": "388ce3fb-3fbf-4a12-b848-9deaac89c25b",
   "metadata": {},
   "outputs": [
    {
     "data": {
      "text/plain": [
       "4"
      ]
     },
     "execution_count": 5,
     "metadata": {},
     "output_type": "execute_result"
    }
   ],
   "source": [
    "2+2"
   ]
  },
  {
   "cell_type": "code",
   "execution_count": 6,
   "id": "3150c609-85c8-4e51-8e9e-2266b6af7914",
   "metadata": {},
   "outputs": [
    {
     "data": {
      "text/plain": [
       "3.1415"
      ]
     },
     "execution_count": 6,
     "metadata": {},
     "output_type": "execute_result"
    }
   ],
   "source": [
    "3.1415"
   ]
  },
  {
   "cell_type": "code",
   "execution_count": 7,
   "id": "b180e94e-0548-4f2e-b79f-0a72d5a56cee",
   "metadata": {},
   "outputs": [
    {
     "data": {
      "text/plain": [
       "True"
      ]
     },
     "execution_count": 7,
     "metadata": {},
     "output_type": "execute_result"
    }
   ],
   "source": [
    "True"
   ]
  },
  {
   "cell_type": "code",
   "execution_count": 8,
   "id": "37fa64e8-83ce-43ed-82d4-7c0975ccfdc9",
   "metadata": {},
   "outputs": [
    {
     "data": {
      "text/plain": [
       "False"
      ]
     },
     "execution_count": 8,
     "metadata": {},
     "output_type": "execute_result"
    }
   ],
   "source": [
    "False"
   ]
  },
  {
   "cell_type": "markdown",
   "id": "44bc88f1-c6be-4ca8-b030-9f2aa013f939",
   "metadata": {},
   "source": [
    "# Variables"
   ]
  },
  {
   "cell_type": "code",
   "execution_count": 9,
   "id": "75681053-b6a5-4348-9ab5-f311ea22549e",
   "metadata": {},
   "outputs": [],
   "source": [
    "x = 5"
   ]
  },
  {
   "cell_type": "code",
   "execution_count": 10,
   "id": "47c1bf26-39a1-47e6-86a6-8bba9bbbd94a",
   "metadata": {},
   "outputs": [
    {
     "data": {
      "text/plain": [
       "5"
      ]
     },
     "execution_count": 10,
     "metadata": {},
     "output_type": "execute_result"
    }
   ],
   "source": [
    "x"
   ]
  },
  {
   "cell_type": "code",
   "execution_count": 11,
   "id": "d110bf0a-cadc-45cc-9858-88df3a42ff4e",
   "metadata": {},
   "outputs": [
    {
     "data": {
      "text/plain": [
       "8"
      ]
     },
     "execution_count": 11,
     "metadata": {},
     "output_type": "execute_result"
    }
   ],
   "source": [
    "x+3"
   ]
  },
  {
   "cell_type": "code",
   "execution_count": 12,
   "id": "085f2754-2424-4970-87c4-245fe48052ee",
   "metadata": {},
   "outputs": [],
   "source": [
    "x = 17"
   ]
  },
  {
   "cell_type": "code",
   "execution_count": 13,
   "id": "78747511-1e8f-4411-904b-fc7d263b8c0b",
   "metadata": {},
   "outputs": [
    {
     "data": {
      "text/plain": [
       "20"
      ]
     },
     "execution_count": 13,
     "metadata": {},
     "output_type": "execute_result"
    }
   ],
   "source": [
    "x+3"
   ]
  },
  {
   "cell_type": "markdown",
   "id": "c55f5788-d8e0-4716-8f74-b87f301e4f81",
   "metadata": {},
   "source": [
    "What is the type of something?"
   ]
  },
  {
   "cell_type": "code",
   "execution_count": 14,
   "id": "965c1356-51de-45e7-bb98-ef8a14c96350",
   "metadata": {},
   "outputs": [
    {
     "data": {
      "text/plain": [
       "int"
      ]
     },
     "execution_count": 14,
     "metadata": {},
     "output_type": "execute_result"
    }
   ],
   "source": [
    "type(x)"
   ]
  },
  {
   "cell_type": "code",
   "execution_count": 15,
   "id": "bddb540c-9232-4c04-baa2-926d20c2ec5f",
   "metadata": {},
   "outputs": [
    {
     "data": {
      "text/plain": [
       "str"
      ]
     },
     "execution_count": 15,
     "metadata": {},
     "output_type": "execute_result"
    }
   ],
   "source": [
    "type(\"this is a string\")"
   ]
  },
  {
   "cell_type": "code",
   "execution_count": 16,
   "id": "1af41491-15e4-4347-8d82-4cb76d5c5bc3",
   "metadata": {},
   "outputs": [
    {
     "data": {
      "text/plain": [
       "float"
      ]
     },
     "execution_count": 16,
     "metadata": {},
     "output_type": "execute_result"
    }
   ],
   "source": [
    "type(3.1415)"
   ]
  },
  {
   "cell_type": "code",
   "execution_count": 17,
   "id": "227081eb-69e0-4ad6-8c41-f9d0623e8b4c",
   "metadata": {},
   "outputs": [
    {
     "data": {
      "text/plain": [
       "bool"
      ]
     },
     "execution_count": 17,
     "metadata": {},
     "output_type": "execute_result"
    }
   ],
   "source": [
    "type(True)"
   ]
  },
  {
   "cell_type": "code",
   "execution_count": 18,
   "id": "176f7a81-5b3f-45e1-a7fe-8b40be371814",
   "metadata": {},
   "outputs": [
    {
     "data": {
      "text/plain": [
       "bool"
      ]
     },
     "execution_count": 18,
     "metadata": {},
     "output_type": "execute_result"
    }
   ],
   "source": [
    "type(False)"
   ]
  },
  {
   "cell_type": "code",
   "execution_count": 19,
   "id": "82236922-3d78-408c-a921-7fd70e426920",
   "metadata": {},
   "outputs": [
    {
     "data": {
      "text/plain": [
       "type"
      ]
     },
     "execution_count": 19,
     "metadata": {},
     "output_type": "execute_result"
    }
   ],
   "source": [
    "type(type)"
   ]
  },
  {
   "cell_type": "code",
   "execution_count": 20,
   "id": "219c9021-2294-4e77-a040-cd732a02f1d8",
   "metadata": {},
   "outputs": [
    {
     "data": {
      "text/plain": [
       "builtin_function_or_method"
      ]
     },
     "execution_count": 20,
     "metadata": {},
     "output_type": "execute_result"
    }
   ],
   "source": [
    "type(print)"
   ]
  },
  {
   "cell_type": "markdown",
   "id": "5b786f1f-151a-4c25-96fe-827b1a18b415",
   "metadata": {},
   "source": [
    "# Executing cells"
   ]
  },
  {
   "cell_type": "code",
   "execution_count": 21,
   "id": "56bbd8c9-e195-4c8e-8e89-7062b2d44157",
   "metadata": {},
   "outputs": [
    {
     "data": {
      "text/plain": [
       "4"
      ]
     },
     "execution_count": 21,
     "metadata": {},
     "output_type": "execute_result"
    }
   ],
   "source": [
    "2+2"
   ]
  },
  {
   "cell_type": "code",
   "execution_count": 22,
   "id": "b9599a5a-7f03-457c-b825-d788e42c0a87",
   "metadata": {},
   "outputs": [
    {
     "data": {
      "text/plain": [
       "15"
      ]
     },
     "execution_count": 22,
     "metadata": {},
     "output_type": "execute_result"
    }
   ],
   "source": [
    "2+2\n",
    "3*5"
   ]
  },
  {
   "cell_type": "code",
   "execution_count": 23,
   "id": "bad6ded8-eaa7-4e94-9379-b0f85020fd5f",
   "metadata": {},
   "outputs": [
    {
     "name": "stdout",
     "output_type": "stream",
     "text": [
      "4\n",
      "15\n"
     ]
    }
   ],
   "source": [
    "print(2+2)\n",
    "print(3*5)"
   ]
  },
  {
   "cell_type": "markdown",
   "id": "72f21115-6c86-4dff-8766-63af1308324b",
   "metadata": {},
   "source": [
    "## Lists"
   ]
  },
  {
   "cell_type": "code",
   "execution_count": 24,
   "id": "60316582-d611-48de-86ce-bcd742d4f0b9",
   "metadata": {},
   "outputs": [],
   "source": [
    "numbers = [2, 3, 5, 7]"
   ]
  },
  {
   "cell_type": "code",
   "execution_count": 25,
   "id": "23f6bbda-ed19-4ef3-8cc7-8a9923cabe7e",
   "metadata": {},
   "outputs": [
    {
     "data": {
      "text/plain": [
       "list"
      ]
     },
     "execution_count": 25,
     "metadata": {},
     "output_type": "execute_result"
    }
   ],
   "source": [
    "type(numbers)"
   ]
  },
  {
   "cell_type": "code",
   "execution_count": 26,
   "id": "9631b37a-18bb-4e76-a77d-03f8a874194c",
   "metadata": {},
   "outputs": [
    {
     "data": {
      "text/plain": [
       "3"
      ]
     },
     "execution_count": 26,
     "metadata": {},
     "output_type": "execute_result"
    }
   ],
   "source": [
    "numbers[1]"
   ]
  },
  {
   "cell_type": "markdown",
   "id": "f986ab51-5a07-48c8-8cb6-771926c04e22",
   "metadata": {},
   "source": [
    "**Python uses zero-based indexing!!!**\n",
    "\n",
    "Lists start at 0, not 1"
   ]
  },
  {
   "cell_type": "code",
   "execution_count": 27,
   "id": "3607b9f7-34af-42e8-8867-7d5b523cff08",
   "metadata": {},
   "outputs": [
    {
     "data": {
      "text/plain": [
       "2"
      ]
     },
     "execution_count": 27,
     "metadata": {},
     "output_type": "execute_result"
    }
   ],
   "source": [
    "numbers[0]"
   ]
  },
  {
   "cell_type": "code",
   "execution_count": 28,
   "id": "273c1da6-c618-4f65-8b2a-922f39e4ef6e",
   "metadata": {},
   "outputs": [
    {
     "ename": "IndexError",
     "evalue": "list index out of range",
     "output_type": "error",
     "traceback": [
      "\u001b[0;31m---------------------------------------------------------------------------\u001b[0m",
      "\u001b[0;31mIndexError\u001b[0m                                Traceback (most recent call last)",
      "\u001b[0;32m/var/folders/97/821xsw0545ldtb2vjwpytqx40000gn/T/ipykernel_39296/2600037746.py\u001b[0m in \u001b[0;36m<module>\u001b[0;34m\u001b[0m\n\u001b[0;32m----> 1\u001b[0;31m \u001b[0mnumbers\u001b[0m\u001b[0;34m[\u001b[0m\u001b[0;36m4\u001b[0m\u001b[0;34m]\u001b[0m\u001b[0;34m\u001b[0m\u001b[0;34m\u001b[0m\u001b[0m\n\u001b[0m",
      "\u001b[0;31mIndexError\u001b[0m: list index out of range"
     ]
    }
   ],
   "source": [
    "numbers[4]"
   ]
  },
  {
   "cell_type": "code",
   "execution_count": null,
   "id": "ef6c64d1-85dd-40b5-9a31-2a7e3985a6e0",
   "metadata": {},
   "outputs": [],
   "source": [
    "numbers"
   ]
  },
  {
   "cell_type": "code",
   "execution_count": null,
   "id": "6f757870-0719-4b0c-aaab-a784a79313be",
   "metadata": {},
   "outputs": [],
   "source": [
    "numbers.append(11)"
   ]
  },
  {
   "cell_type": "code",
   "execution_count": null,
   "id": "2ed92a54-05c3-4e5a-a2ee-3a4051305c3e",
   "metadata": {},
   "outputs": [],
   "source": [
    "numbers"
   ]
  },
  {
   "cell_type": "code",
   "execution_count": null,
   "id": "733f15e9-3d93-4457-a438-9bcaedef22cc",
   "metadata": {},
   "outputs": [],
   "source": [
    "for value in numbers: \n",
    "    print(\"the value is\", value)"
   ]
  },
  {
   "cell_type": "markdown",
   "id": "58ef1523-5883-4401-9bae-a7548561a63b",
   "metadata": {},
   "source": [
    "This is called a loop, and for each item in that list, assign the variable \"value\" to that item in the list, and you can use that variable value for whatever is inside the loop. It knows it is inside the loop because it is indented and after the colon."
   ]
  },
  {
   "cell_type": "code",
   "execution_count": null,
   "id": "cb690596-324a-4d34-938f-e449e4a66cbe",
   "metadata": {},
   "outputs": [],
   "source": [
    "for value in numbers:\n",
    "    print(\"the value is\", value)\n",
    "    print(\"this line is in the loop\")\n",
    "print(\"no longer in the loop\")"
   ]
  },
  {
   "cell_type": "code",
   "execution_count": null,
   "id": "2455b062-7890-4a51-81ac-16b5d74e6c5b",
   "metadata": {},
   "outputs": [],
   "source": [
    "for n in numbers:\n",
    "    print(\"the value is\", n)"
   ]
  },
  {
   "cell_type": "markdown",
   "id": "b846808f-aa6e-449b-aa0f-bedd79bbfc96",
   "metadata": {},
   "source": [
    "## Tuples\n",
    "\n",
    "Just like lists! But can't be modified"
   ]
  },
  {
   "cell_type": "code",
   "execution_count": null,
   "id": "7d87d75a-dd9c-407a-ae42-0abb5dd204c0",
   "metadata": {},
   "outputs": [],
   "source": [
    "numbers = [2, 3, 5, 7]\n",
    "my_tuple = (2, 3, 5, 7)"
   ]
  },
  {
   "cell_type": "code",
   "execution_count": null,
   "id": "57ae7669-b721-4a6a-b568-96c305bba8f1",
   "metadata": {},
   "outputs": [],
   "source": [
    "my_tuple[0]"
   ]
  },
  {
   "cell_type": "code",
   "execution_count": null,
   "id": "e3dd1a66-a758-4c0e-b97d-31ac31ca42cc",
   "metadata": {},
   "outputs": [],
   "source": [
    "numbers[0] = 17"
   ]
  },
  {
   "cell_type": "code",
   "execution_count": null,
   "id": "792fc242-633b-4420-8cb6-3476e19654c5",
   "metadata": {},
   "outputs": [],
   "source": [
    "numbers"
   ]
  },
  {
   "cell_type": "code",
   "execution_count": null,
   "id": "6580db37-3fac-4b3d-9a06-da69f1752c8c",
   "metadata": {},
   "outputs": [],
   "source": [
    "my_tuple[0]=17"
   ]
  },
  {
   "cell_type": "code",
   "execution_count": null,
   "id": "526c3807-de82-46ec-80a6-873fb8185d79",
   "metadata": {},
   "outputs": [],
   "source": [
    "numbers"
   ]
  },
  {
   "cell_type": "code",
   "execution_count": null,
   "id": "49f3cc9b-87b3-4d77-8e88-0f45391ea729",
   "metadata": {},
   "outputs": [],
   "source": [
    "[1, True, \"abc\", 3.14]"
   ]
  },
  {
   "cell_type": "markdown",
   "id": "00570f03-948f-439c-b87f-389f5c8ad5b1",
   "metadata": {},
   "source": [
    "Can have a list of an integer, a boolean, a string, and a float"
   ]
  },
  {
   "cell_type": "markdown",
   "id": "20fec700-b35e-49da-8e13-6fbbaf2518fc",
   "metadata": {},
   "source": [
    "# Dictionaries"
   ]
  },
  {
   "cell_type": "code",
   "execution_count": null,
   "id": "ff9cdb3c-3345-4639-8d69-6295d18c42cf",
   "metadata": {},
   "outputs": [],
   "source": [
    "my_stuff = [1, True, \"abc\", 3.14]"
   ]
  },
  {
   "cell_type": "code",
   "execution_count": null,
   "id": "55780afe-da36-489c-b01f-2eecd9be349e",
   "metadata": {},
   "outputs": [],
   "source": [
    "my_stuff[3]"
   ]
  },
  {
   "cell_type": "code",
   "execution_count": null,
   "id": "08f13a40-981a-416b-8a03-574c8fd41249",
   "metadata": {},
   "outputs": [],
   "source": [
    "home_department = {\n",
    "    \"Greg\": \"RDS\",\n",
    "    \"Seth\": \"DREAM Lab\",\n",
    "    \"Jon\": \"DREAM Lab\"\n",
    "}"
   ]
  },
  {
   "cell_type": "code",
   "execution_count": null,
   "id": "6c12fb15-9d3a-47c0-82eb-b9bb08c7048d",
   "metadata": {},
   "outputs": [],
   "source": [
    "home_department[\"Greg\"]"
   ]
  },
  {
   "cell_type": "code",
   "execution_count": null,
   "id": "8107f71c-967b-4c5f-b06c-a4357220858f",
   "metadata": {},
   "outputs": [],
   "source": [
    "home_department[\"Kristi\"]"
   ]
  },
  {
   "cell_type": "code",
   "execution_count": null,
   "id": "55eb55be-e71d-46da-bb24-4a3aad719cd6",
   "metadata": {},
   "outputs": [],
   "source": [
    "home_department[\"Kristi\"] = \"DREAM Lab\""
   ]
  },
  {
   "cell_type": "code",
   "execution_count": null,
   "id": "1e0689d8-9713-42ff-9421-b66f318a154d",
   "metadata": {},
   "outputs": [],
   "source": [
    "home_department"
   ]
  },
  {
   "cell_type": "code",
   "execution_count": null,
   "id": "1aca40d3-7339-4686-bb0a-75974d44e047",
   "metadata": {},
   "outputs": [],
   "source": [
    "numbers"
   ]
  },
  {
   "cell_type": "code",
   "execution_count": null,
   "id": "be9bc6d8-0695-4dcf-8eb9-463ac8a8a36a",
   "metadata": {},
   "outputs": [],
   "source": [
    "for value in numbers:\n",
    "    print(value)"
   ]
  },
  {
   "cell_type": "code",
   "execution_count": null,
   "id": "64873837-00b4-4855-9d24-e28e0abe1bf7",
   "metadata": {},
   "outputs": [],
   "source": [
    "for key in home_department:\n",
    "    print(key)"
   ]
  },
  {
   "cell_type": "code",
   "execution_count": null,
   "id": "d4e0eca5-637e-47e4-8e0b-0e4e799da545",
   "metadata": {},
   "outputs": [],
   "source": [
    "for key in home_department:\n",
    "    print(key, home_department[key])"
   ]
  },
  {
   "cell_type": "code",
   "execution_count": null,
   "id": "da1b1c8b-c2b7-4aab-871b-bf074dd67e09",
   "metadata": {},
   "outputs": [],
   "source": [
    "for key, value in home_department.items():\n",
    "    print(key, \"is in\", value)"
   ]
  },
  {
   "cell_type": "code",
   "execution_count": null,
   "id": "a51bbdd5-a5a9-4f4c-b89b-8ef7c6b61dfd",
   "metadata": {},
   "outputs": [],
   "source": [
    "for x, y in home_department.items():\n",
    "    print(x, \"is in\", y)"
   ]
  },
  {
   "cell_type": "markdown",
   "id": "486e407d-8b1c-4922-b6c4-e0d585232371",
   "metadata": {},
   "source": [
    "The purpose of adding \".items():\" is to get two values assigned to two variables"
   ]
  },
  {
   "cell_type": "markdown",
   "id": "41f28256-1d87-42ee-9eb2-119323885827",
   "metadata": {},
   "source": [
    "## Functions"
   ]
  },
  {
   "cell_type": "code",
   "execution_count": null,
   "id": "3bbf0fe6-3bd6-4ca7-981d-cb9e81330eab",
   "metadata": {},
   "outputs": [],
   "source": [
    "print(42)"
   ]
  },
  {
   "cell_type": "code",
   "execution_count": null,
   "id": "4612d109-41ce-4f5b-8ecb-92ca8ab1df24",
   "metadata": {},
   "outputs": [],
   "source": [
    "def my_computation(a, b): \n",
    "    return a*b + 25"
   ]
  },
  {
   "cell_type": "code",
   "execution_count": null,
   "id": "f0b436b5-143d-47a6-b6c5-9bf71298292d",
   "metadata": {},
   "outputs": [],
   "source": [
    "my_computation(3, 5)"
   ]
  },
  {
   "cell_type": "code",
   "execution_count": null,
   "id": "7ddd83e7-6cb8-4c0e-bb0d-5a215ccfac07",
   "metadata": {},
   "outputs": [],
   "source": [
    "my_computation(4, 6)"
   ]
  },
  {
   "cell_type": "code",
   "execution_count": null,
   "id": "969d3209-ada5-4c8a-949e-6fedd0bd6484",
   "metadata": {},
   "outputs": [],
   "source": [
    "def my_computation(a, b):\n",
    "    if a < b:\n",
    "        result = a*b + 25\n",
    "    else:\n",
    "        result = 37 - a/b\n",
    "    return result"
   ]
  },
  {
   "cell_type": "markdown",
   "id": "16e89d40-562e-4107-9bfe-441a52e30c2b",
   "metadata": {},
   "source": [
    "This is a conditional statement, and this is how indentations work as well for what certain functions are under."
   ]
  },
  {
   "cell_type": "code",
   "execution_count": null,
   "id": "4db590d7-5156-489e-b292-b36986b21a48",
   "metadata": {},
   "outputs": [],
   "source": [
    "my_computation(4, 6)"
   ]
  },
  {
   "cell_type": "code",
   "execution_count": null,
   "id": "294e4605-ef2a-43f1-a3d8-f00297c0dd02",
   "metadata": {},
   "outputs": [],
   "source": [
    "my_computation(6, 4)"
   ]
  },
  {
   "cell_type": "markdown",
   "id": "e773a657-af57-4f14-a6d6-246af98236b2",
   "metadata": {},
   "source": [
    "# Operators"
   ]
  },
  {
   "cell_type": "code",
   "execution_count": null,
   "id": "15aea34c-606f-486b-8b2d-803d35289340",
   "metadata": {},
   "outputs": [],
   "source": [
    "2+2"
   ]
  },
  {
   "cell_type": "code",
   "execution_count": null,
   "id": "110901d2-3bd3-48b7-9654-796d81cefd12",
   "metadata": {},
   "outputs": [],
   "source": [
    "3*5 - 7"
   ]
  },
  {
   "cell_type": "code",
   "execution_count": null,
   "id": "d41cfcca-c30b-4af5-be7c-4b38e6668a06",
   "metadata": {},
   "outputs": [],
   "source": [
    "6/4"
   ]
  },
  {
   "cell_type": "code",
   "execution_count": null,
   "id": "706bdc79-f0d1-4372-a8c0-2e7faa89b023",
   "metadata": {},
   "outputs": [],
   "source": [
    "6//4"
   ]
  },
  {
   "cell_type": "markdown",
   "id": "78c678ae-b900-427f-a969-97f45117055b",
   "metadata": {},
   "source": [
    "This is division where it rounds it down(?) to the nearest integer/ maybe just removes the decimal"
   ]
  },
  {
   "cell_type": "code",
   "execution_count": null,
   "id": "98ee489a-2909-4957-87df-0da6095fac05",
   "metadata": {},
   "outputs": [],
   "source": [
    "2 ** 3"
   ]
  },
  {
   "cell_type": "code",
   "execution_count": null,
   "id": "9ad8daf5-9888-4dae-834d-b906fdf27523",
   "metadata": {},
   "outputs": [],
   "source": [
    "3 < 5"
   ]
  },
  {
   "cell_type": "code",
   "execution_count": null,
   "id": "c5ed624d-3d85-4566-b3c5-2f903c59e739",
   "metadata": {},
   "outputs": [],
   "source": [
    "3 >= 5"
   ]
  },
  {
   "cell_type": "code",
   "execution_count": null,
   "id": "b6c68d4f-0e89-4124-9546-40871f6e35d1",
   "metadata": {},
   "outputs": [],
   "source": [
    "3 < 5 and 4 < 6"
   ]
  },
  {
   "cell_type": "code",
   "execution_count": null,
   "id": "13b0aee9-ab10-4a9b-a6c5-1c2b0fe17741",
   "metadata": {},
   "outputs": [],
   "source": [
    "8/3"
   ]
  },
  {
   "cell_type": "code",
   "execution_count": null,
   "id": "73c8a4e3-57fd-4076-80c4-d74ffc5ec49d",
   "metadata": {},
   "outputs": [],
   "source": [
    "8//3"
   ]
  },
  {
   "cell_type": "markdown",
   "id": "babe667b-b493-4937-b0f3-a10fe07f5ae6",
   "metadata": {},
   "source": [
    "# Getting help"
   ]
  },
  {
   "cell_type": "code",
   "execution_count": null,
   "id": "e2484f70-fb63-4d42-90ff-6f4565622bbb",
   "metadata": {},
   "outputs": [],
   "source": [
    "type(help)"
   ]
  },
  {
   "cell_type": "code",
   "execution_count": null,
   "id": "bbb0d922-0953-469c-ba1c-91f0e55afabd",
   "metadata": {},
   "outputs": [],
   "source": [
    "help(print)"
   ]
  },
  {
   "cell_type": "code",
   "execution_count": null,
   "id": "1eb57739-2c01-4abb-abd0-cb6d26dd92e7",
   "metadata": {},
   "outputs": [],
   "source": [
    "help(numbers)"
   ]
  },
  {
   "cell_type": "code",
   "execution_count": null,
   "id": "3c08e4d1-cf27-48da-8ac1-8d29a595bc5e",
   "metadata": {},
   "outputs": [],
   "source": [
    "print(2, 3, True, \"hello\", sep=\"|\")"
   ]
  },
  {
   "cell_type": "code",
   "execution_count": null,
   "id": "fbe4170b-060c-4d3b-8b14-a8af1c382b64",
   "metadata": {},
   "outputs": [],
   "source": [
    "unsorted_list = [3, 2, 11, 7]"
   ]
  },
  {
   "cell_type": "code",
   "execution_count": null,
   "id": "87082491-221c-4065-862c-70d20dda2cff",
   "metadata": {},
   "outputs": [],
   "source": [
    "unsorted_list.sort()"
   ]
  },
  {
   "cell_type": "code",
   "execution_count": null,
   "id": "818ae1d3-cf9c-4814-86b6-bfe0d43935a4",
   "metadata": {},
   "outputs": [],
   "source": [
    "unsorted_list"
   ]
  },
  {
   "cell_type": "code",
   "execution_count": null,
   "id": "0a15bd17-dea1-4082-9291-1f575a7d74d4",
   "metadata": {},
   "outputs": [],
   "source": []
  }
 ],
 "metadata": {
  "kernelspec": {
   "display_name": "Python 3 (ipykernel)",
   "language": "python",
   "name": "python3"
  },
  "language_info": {
   "codemirror_mode": {
    "name": "ipython",
    "version": 3
   },
   "file_extension": ".py",
   "mimetype": "text/x-python",
   "name": "python",
   "nbconvert_exporter": "python",
   "pygments_lexer": "ipython3",
   "version": "3.9.13"
  }
 },
 "nbformat": 4,
 "nbformat_minor": 5
}
